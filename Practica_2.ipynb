{
  "nbformat": 4,
  "nbformat_minor": 0,
  "metadata": {
    "colab": {
      "provenance": []
    },
    "kernelspec": {
      "name": "python3",
      "display_name": "Python 3"
    },
    "language_info": {
      "name": "python"
    }
  },
  "cells": [
    {
      "cell_type": "code",
      "execution_count": 1,
      "metadata": {
        "colab": {
          "base_uri": "https://localhost:8080/"
        },
        "id": "R71Jsu4_UrSj",
        "outputId": "d17dd83d-3548-4912-a480-1fcf05e01941"
      },
      "outputs": [
        {
          "output_type": "stream",
          "name": "stdout",
          "text": [
            "Cloning into 'ucu_pad_practice_2023_02'...\n",
            "remote: Enumerating objects: 14, done.\u001b[K\n",
            "remote: Counting objects: 100% (14/14), done.\u001b[K\n",
            "remote: Compressing objects: 100% (10/10), done.\u001b[K\n",
            "remote: Total 14 (delta 2), reused 8 (delta 0), pack-reused 0\u001b[K\n",
            "Receiving objects: 100% (14/14), 6.02 MiB | 8.93 MiB/s, done.\n",
            "Resolving deltas: 100% (2/2), done.\n"
          ]
        }
      ],
      "source": [
        "!git clone https://github.com/hchocobar/ucu_pad_practice_2023_02.git"
      ]
    },
    {
      "cell_type": "code",
      "source": [
        "import pandas as pd\n",
        "\n",
        "df = pd.read_csv(\"/content/ucu_pad_practice_2023_02/data/NISPUF17.csv\")\n",
        "print(df.head())\n",
        "total = len(df)\n",
        "print(\"Número total de filas en el DataFrame:\", total)"
      ],
      "metadata": {
        "colab": {
          "base_uri": "https://localhost:8080/"
        },
        "id": "tKrkLtKok2VS",
        "outputId": "16505e4a-1223-4083-f78a-aab13d9215fd"
      },
      "execution_count": 4,
      "outputs": [
        {
          "output_type": "stream",
          "name": "stdout",
          "text": [
            "   Unnamed: 0  SEQNUMC  SEQNUMHH  PDAT    PROVWT_D     RDDWT_D  STRATUM  YEAR  \\\n",
            "0           1   128521     12852     2         NaN  235.916956     1031  2017   \n",
            "1           2    10741      1074     2         NaN  957.353840     1068  2017   \n",
            "2           3   220011     22001     2         NaN  189.611299     1050  2017   \n",
            "3           4    86131      8613     1  675.430817  333.447418     1040  2017   \n",
            "4           5   227141     22714     1  482.617748  278.768063     1008  2017   \n",
            "\n",
            "   AGECPOXR  HAD_CPOX  ...  XVRCTY2  XVRCTY3  XVRCTY4  XVRCTY5  XVRCTY6  \\\n",
            "0       NaN         2  ...                        NaN      NaN      NaN   \n",
            "1       NaN         2  ...                        NaN      NaN      NaN   \n",
            "2       NaN         2  ...                        NaN      NaN      NaN   \n",
            "3       NaN         2  ...                        NaN      NaN      NaN   \n",
            "4       NaN         2  ...                        NaN      NaN      NaN   \n",
            "\n",
            "   XVRCTY7  XVRCTY8  XVRCTY9  INS_STAT2_I  INS_BREAK_I  \n",
            "0      NaN      NaN      NaN          NaN          NaN  \n",
            "1      NaN      NaN      NaN          NaN          NaN  \n",
            "2      NaN      NaN      NaN          NaN          NaN  \n",
            "3      NaN      NaN      NaN          1.0          2.0  \n",
            "4      NaN      NaN      NaN          2.0          1.0  \n",
            "\n",
            "[5 rows x 454 columns]\n",
            "Número total de filas en el DataFrame: 28465\n"
          ]
        }
      ]
    },
    {
      "cell_type": "code",
      "source": [
        "set (df[\"EDUC1\"])"
      ],
      "metadata": {
        "colab": {
          "base_uri": "https://localhost:8080/"
        },
        "id": "lP4EJINsmeHx",
        "outputId": "605ee2d1-882c-4a74-ef55-1be2c4d4ec72"
      },
      "execution_count": 5,
      "outputs": [
        {
          "output_type": "execute_result",
          "data": {
            "text/plain": [
              "{1, 2, 3, 4}"
            ]
          },
          "metadata": {},
          "execution_count": 5
        }
      ]
    },
    {
      "cell_type": "code",
      "source": [
        "mother_education_level_1 = df[df[\"EDUC1\"]==1]\n",
        "cant_1 = len(mother_education_level_1)"
      ],
      "metadata": {
        "id": "vk-5CZh5mngY"
      },
      "execution_count": 6,
      "outputs": []
    },
    {
      "cell_type": "markdown",
      "source": [
        "Primer dato:"
      ],
      "metadata": {
        "id": "jVhp8StjnGBl"
      }
    },
    {
      "cell_type": "code",
      "source": [
        "proporcion_niños_1 = cant_1 /total\n",
        "proporcion_niños_1"
      ],
      "metadata": {
        "colab": {
          "base_uri": "https://localhost:8080/"
        },
        "id": "XHpvn5cPnEeY",
        "outputId": "3407d7bf-e6df-4cb1-d2ba-c1976b68074c"
      },
      "execution_count": 7,
      "outputs": [
        {
          "output_type": "execute_result",
          "data": {
            "text/plain": [
              "0.10202002459160373"
            ]
          },
          "metadata": {},
          "execution_count": 7
        }
      ]
    },
    {
      "cell_type": "markdown",
      "source": [
        "Segundo dato:"
      ],
      "metadata": {
        "id": "LB8-CXfgnf2w"
      }
    },
    {
      "cell_type": "code",
      "source": [
        "set(df[\"CBF_01\"])"
      ],
      "metadata": {
        "colab": {
          "base_uri": "https://localhost:8080/"
        },
        "id": "S5vqP7z5Z0sZ",
        "outputId": "1b82e5b6-053a-4943-c922-0ded5f085e2b"
      },
      "execution_count": 8,
      "outputs": [
        {
          "output_type": "execute_result",
          "data": {
            "text/plain": [
              "{1, 2, 77, 99}"
            ]
          },
          "metadata": {},
          "execution_count": 8
        }
      ]
    },
    {
      "cell_type": "code",
      "source": [
        "dfc1 = df[df[\"CBF_01\"] == 1] # lactancia\n",
        "len(dfc1)"
      ],
      "metadata": {
        "colab": {
          "base_uri": "https://localhost:8080/"
        },
        "id": "9Mm2V7vneASH",
        "outputId": "2da186ea-ff7a-4c92-bf1e-b4003b95cd33"
      },
      "execution_count": 9,
      "outputs": [
        {
          "output_type": "execute_result",
          "data": {
            "text/plain": [
              "24261"
            ]
          },
          "metadata": {},
          "execution_count": 9
        }
      ]
    },
    {
      "cell_type": "code",
      "source": [
        "dfc1[\"P_NUMFLU\"].mean() # promedio"
      ],
      "metadata": {
        "colab": {
          "base_uri": "https://localhost:8080/"
        },
        "id": "U-oUfGsLelr3",
        "outputId": "7b221544-b4db-4b2f-cd75-cd41247d115f"
      },
      "execution_count": 10,
      "outputs": [
        {
          "output_type": "execute_result",
          "data": {
            "text/plain": [
              "1.8799187420058687"
            ]
          },
          "metadata": {},
          "execution_count": 10
        }
      ]
    },
    {
      "cell_type": "code",
      "source": [
        "dfc2 =df[df[\"CBF_01\"] == 2]\n",
        "len(dfc2)"
      ],
      "metadata": {
        "colab": {
          "base_uri": "https://localhost:8080/"
        },
        "id": "OvMlG_SsoWIx",
        "outputId": "f9177028-643e-41d1-e387-217f9639498b"
      },
      "execution_count": 13,
      "outputs": [
        {
          "output_type": "execute_result",
          "data": {
            "text/plain": [
              "4085"
            ]
          },
          "metadata": {},
          "execution_count": 13
        }
      ]
    },
    {
      "cell_type": "code",
      "source": [
        "relacion_2 = dfc2[\"P_NUMFLU\"].mean() # promedio que no recibio leche materna\n",
        "relacion_2"
      ],
      "metadata": {
        "colab": {
          "base_uri": "https://localhost:8080/"
        },
        "id": "9OVt0bvzs4af",
        "outputId": "3aa84578-faee-4b16-b879-9c64a2fd746f"
      },
      "execution_count": 14,
      "outputs": [
        {
          "output_type": "execute_result",
          "data": {
            "text/plain": [
              "1.5963945918878317"
            ]
          },
          "metadata": {},
          "execution_count": 14
        }
      ]
    },
    {
      "cell_type": "markdown",
      "source": [
        "Tercera parte:"
      ],
      "metadata": {
        "id": "H5j6pKrtzAym"
      }
    },
    {
      "cell_type": "code",
      "source": [
        "print(data.head())"
      ],
      "metadata": {
        "colab": {
          "base_uri": "https://localhost:8080/"
        },
        "id": "N3kw2Pyltagc",
        "outputId": "659bd36e-8b83-497e-fc82-ea51215df445"
      },
      "execution_count": 19,
      "outputs": [
        {
          "output_type": "stream",
          "name": "stdout",
          "text": [
            "   Unnamed: 0  SEQNUMC  SEQNUMHH  PDAT    PROVWT_D     RDDWT_D  STRATUM  YEAR  \\\n",
            "0           1   128521     12852     2         NaN  235.916956     1031  2017   \n",
            "1           2    10741      1074     2         NaN  957.353840     1068  2017   \n",
            "2           3   220011     22001     2         NaN  189.611299     1050  2017   \n",
            "3           4    86131      8613     1  675.430817  333.447418     1040  2017   \n",
            "4           5   227141     22714     1  482.617748  278.768063     1008  2017   \n",
            "\n",
            "   AGECPOXR  HAD_CPOX  ...  XVRCTY2  XVRCTY3  XVRCTY4  XVRCTY5  XVRCTY6  \\\n",
            "0       NaN         2  ...                        NaN      NaN      NaN   \n",
            "1       NaN         2  ...                        NaN      NaN      NaN   \n",
            "2       NaN         2  ...                        NaN      NaN      NaN   \n",
            "3       NaN         2  ...                        NaN      NaN      NaN   \n",
            "4       NaN         2  ...                        NaN      NaN      NaN   \n",
            "\n",
            "   XVRCTY7  XVRCTY8  XVRCTY9  INS_STAT2_I  INS_BREAK_I  \n",
            "0      NaN      NaN      NaN          NaN          NaN  \n",
            "1      NaN      NaN      NaN          NaN          NaN  \n",
            "2      NaN      NaN      NaN          NaN          NaN  \n",
            "3      NaN      NaN      NaN          1.0          2.0  \n",
            "4      NaN      NaN      NaN          2.0          1.0  \n",
            "\n",
            "[5 rows x 454 columns]\n"
          ]
        }
      ]
    },
    {
      "cell_type": "code",
      "source": [
        "print(data['SEX'].value_counts())\n",
        "print(data['HAD_CPOX'].value_counts())"
      ],
      "metadata": {
        "colab": {
          "base_uri": "https://localhost:8080/"
        },
        "id": "HKZdajiBwVWA",
        "outputId": "51201ad7-27f1-4fd6-89cc-b82860698bb8"
      },
      "execution_count": 20,
      "outputs": [
        {
          "output_type": "stream",
          "name": "stdout",
          "text": [
            "1    14717\n",
            "2    13748\n",
            "Name: SEX, dtype: int64\n",
            "2     27955\n",
            "1       402\n",
            "77      105\n",
            "99        3\n",
            "Name: HAD_CPOX, dtype: int64\n"
          ]
        }
      ]
    }
  ]
}