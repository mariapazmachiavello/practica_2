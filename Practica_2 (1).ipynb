{
  "nbformat": 4,
  "nbformat_minor": 0,
  "metadata": {
    "colab": {
      "provenance": []
    },
    "kernelspec": {
      "name": "python3",
      "display_name": "Python 3"
    },
    "language_info": {
      "name": "python"
    }
  },
  "cells": [
    {
      "cell_type": "code",
      "execution_count": 3,
      "metadata": {
        "colab": {
          "base_uri": "https://localhost:8080/"
        },
        "id": "R71Jsu4_UrSj",
        "outputId": "94e0ac56-81c9-4983-b055-b1f5e19628e9"
      },
      "outputs": [
        {
          "output_type": "stream",
          "name": "stdout",
          "text": [
            "Cloning into 'ucu_pad_practice_2023_02'...\n",
            "remote: Enumerating objects: 14, done.\u001b[K\n",
            "remote: Counting objects: 100% (14/14), done.\u001b[K\n",
            "remote: Compressing objects: 100% (10/10), done.\u001b[K\n",
            "remote: Total 14 (delta 2), reused 8 (delta 0), pack-reused 0\u001b[K\n",
            "Receiving objects: 100% (14/14), 6.02 MiB | 12.75 MiB/s, done.\n",
            "Resolving deltas: 100% (2/2), done.\n"
          ]
        }
      ],
      "source": [
        "!git clone https://github.com/hchocobar/ucu_pad_practice_2023_02.git"
      ]
    },
    {
      "cell_type": "code",
      "source": [
        "import pandas as pd\n",
        "\n",
        "df = pd.read_csv(\"/content/ucu_pad_practice_2023_02/data/NISPUF17.csv\")\n",
        "print(df.head())\n",
        "total = len(df)\n",
        "print(\"Número total de filas en el DataFrame:\", total)"
      ],
      "metadata": {
        "colab": {
          "base_uri": "https://localhost:8080/"
        },
        "id": "tKrkLtKok2VS",
        "outputId": "192c1d9c-fe0b-4792-a82e-250db8478899"
      },
      "execution_count": 4,
      "outputs": [
        {
          "output_type": "stream",
          "name": "stdout",
          "text": [
            "   Unnamed: 0  SEQNUMC  SEQNUMHH  PDAT    PROVWT_D     RDDWT_D  STRATUM  YEAR  \\\n",
            "0           1   128521     12852     2         NaN  235.916956     1031  2017   \n",
            "1           2    10741      1074     2         NaN  957.353840     1068  2017   \n",
            "2           3   220011     22001     2         NaN  189.611299     1050  2017   \n",
            "3           4    86131      8613     1  675.430817  333.447418     1040  2017   \n",
            "4           5   227141     22714     1  482.617748  278.768063     1008  2017   \n",
            "\n",
            "   AGECPOXR  HAD_CPOX  ...  XVRCTY2  XVRCTY3  XVRCTY4  XVRCTY5  XVRCTY6  \\\n",
            "0       NaN         2  ...                        NaN      NaN      NaN   \n",
            "1       NaN         2  ...                        NaN      NaN      NaN   \n",
            "2       NaN         2  ...                        NaN      NaN      NaN   \n",
            "3       NaN         2  ...                        NaN      NaN      NaN   \n",
            "4       NaN         2  ...                        NaN      NaN      NaN   \n",
            "\n",
            "   XVRCTY7  XVRCTY8  XVRCTY9  INS_STAT2_I  INS_BREAK_I  \n",
            "0      NaN      NaN      NaN          NaN          NaN  \n",
            "1      NaN      NaN      NaN          NaN          NaN  \n",
            "2      NaN      NaN      NaN          NaN          NaN  \n",
            "3      NaN      NaN      NaN          1.0          2.0  \n",
            "4      NaN      NaN      NaN          2.0          1.0  \n",
            "\n",
            "[5 rows x 454 columns]\n",
            "Número total de filas en el DataFrame: 28465\n"
          ]
        }
      ]
    },
    {
      "cell_type": "code",
      "source": [
        "set (df[\"EDUC1\"])"
      ],
      "metadata": {
        "colab": {
          "base_uri": "https://localhost:8080/"
        },
        "id": "lP4EJINsmeHx",
        "outputId": "c8a7a943-4fe8-4a47-b7df-86f0264ce3cc"
      },
      "execution_count": 5,
      "outputs": [
        {
          "output_type": "execute_result",
          "data": {
            "text/plain": [
              "{1, 2, 3, 4}"
            ]
          },
          "metadata": {},
          "execution_count": 5
        }
      ]
    },
    {
      "cell_type": "code",
      "source": [
        "mother_education_level_1 = df[df[\"EDUC1\"]==1]\n",
        "cant_1 = len(mother_education_level_1)"
      ],
      "metadata": {
        "id": "vk-5CZh5mngY"
      },
      "execution_count": 6,
      "outputs": []
    },
    {
      "cell_type": "markdown",
      "source": [
        "Primer dato:"
      ],
      "metadata": {
        "id": "jVhp8StjnGBl"
      }
    },
    {
      "cell_type": "code",
      "source": [
        "proporcion_niños_1 = cant_1 /total\n",
        "proporcion_niños_1"
      ],
      "metadata": {
        "colab": {
          "base_uri": "https://localhost:8080/"
        },
        "id": "XHpvn5cPnEeY",
        "outputId": "581f8652-518f-493e-cc80-da77e24e7675"
      },
      "execution_count": 7,
      "outputs": [
        {
          "output_type": "execute_result",
          "data": {
            "text/plain": [
              "0.10202002459160373"
            ]
          },
          "metadata": {},
          "execution_count": 7
        }
      ]
    },
    {
      "cell_type": "markdown",
      "source": [
        "Segundo dato:"
      ],
      "metadata": {
        "id": "LB8-CXfgnf2w"
      }
    },
    {
      "cell_type": "code",
      "source": [
        "set(df[\"CBF_01\"])"
      ],
      "metadata": {
        "colab": {
          "base_uri": "https://localhost:8080/"
        },
        "id": "S5vqP7z5Z0sZ",
        "outputId": "571fa6a0-78b0-4b61-d2d9-25685ebfdbcf"
      },
      "execution_count": 8,
      "outputs": [
        {
          "output_type": "execute_result",
          "data": {
            "text/plain": [
              "{1, 2, 77, 99}"
            ]
          },
          "metadata": {},
          "execution_count": 8
        }
      ]
    },
    {
      "cell_type": "code",
      "source": [
        "dfc1 = df[df[\"CBF_01\"] == 1] # lactancia\n",
        "len(dfc1)"
      ],
      "metadata": {
        "colab": {
          "base_uri": "https://localhost:8080/"
        },
        "id": "9Mm2V7vneASH",
        "outputId": "2ecfe884-c05a-4f00-bad6-f0463277455c"
      },
      "execution_count": 9,
      "outputs": [
        {
          "output_type": "execute_result",
          "data": {
            "text/plain": [
              "24261"
            ]
          },
          "metadata": {},
          "execution_count": 9
        }
      ]
    },
    {
      "cell_type": "code",
      "source": [
        "dfc1[\"P_NUMFLU\"].mean() # promedio"
      ],
      "metadata": {
        "colab": {
          "base_uri": "https://localhost:8080/"
        },
        "id": "U-oUfGsLelr3",
        "outputId": "bfdf6e9c-452f-40d6-963b-005dd73de88b"
      },
      "execution_count": 10,
      "outputs": [
        {
          "output_type": "execute_result",
          "data": {
            "text/plain": [
              "1.8799187420058687"
            ]
          },
          "metadata": {},
          "execution_count": 10
        }
      ]
    },
    {
      "cell_type": "code",
      "source": [
        "dfc2 =df[df[\"CBF_01\"] == 2]\n",
        "len(dfc2)"
      ],
      "metadata": {
        "colab": {
          "base_uri": "https://localhost:8080/"
        },
        "id": "OvMlG_SsoWIx",
        "outputId": "247514ab-2cdb-4da8-d5b1-f4e232bf6dc9"
      },
      "execution_count": 11,
      "outputs": [
        {
          "output_type": "execute_result",
          "data": {
            "text/plain": [
              "4085"
            ]
          },
          "metadata": {},
          "execution_count": 11
        }
      ]
    },
    {
      "cell_type": "code",
      "source": [
        "relacion_2 = dfc2[\"P_NUMFLU\"].mean() # promedio que no recibio leche materna\n",
        "relacion_2"
      ],
      "metadata": {
        "colab": {
          "base_uri": "https://localhost:8080/"
        },
        "id": "9OVt0bvzs4af",
        "outputId": "275ad069-8f79-439b-ff5f-36061777ba21"
      },
      "execution_count": 12,
      "outputs": [
        {
          "output_type": "execute_result",
          "data": {
            "text/plain": [
              "1.5963945918878317"
            ]
          },
          "metadata": {},
          "execution_count": 12
        }
      ]
    },
    {
      "cell_type": "markdown",
      "source": [
        "Tercera parte:"
      ],
      "metadata": {
        "id": "H5j6pKrtzAym"
      }
    },
    {
      "cell_type": "code",
      "source": [
        "def chickenpox_by_sex(df):\n",
        "    ratios = {}\n",
        "\n",
        "    vaccinated = df[df['P_NUMVRC'] >= 1]  # Data frame de personas con al menos una dosis de vacuna\n",
        "\n",
        "    had_pox = vaccinated[vaccinated['HAD_CPOX'] == 1]  # Vacunados que contrajeron varicela\n",
        "    no_pox = vaccinated[vaccinated['HAD_CPOX'] == 2]  # Vacunados que no contrajeron varicela\n",
        "\n",
        "    # Se calcula el ratio para personas vacunadas con varicela vs. personas vacunadas sin varicela, separando por sexo\n",
        "    ratio_vaccine_desease_m = len(had_pox[had_pox['SEX'] == 1]) / len(no_pox[no_pox['SEX'] == 1])\n",
        "    ratio_vaccine_desease_f = len(had_pox[had_pox['SEX'] == 2]) / len(no_pox[no_pox['SEX'] == 2])\n",
        "\n",
        "    # Se guardan los datos en el diccionario\n",
        "    ratios = {\n",
        "        \"male\": ratio_vaccine_desease_m,\n",
        "        \"female\": ratio_vaccine_desease_f\n",
        "    }\n",
        "\n",
        "    return ratios"
      ],
      "metadata": {
        "id": "U9ghFuDX2Xln"
      },
      "execution_count": 24,
      "outputs": []
    },
    {
      "cell_type": "code",
      "source": [
        "result = chickenpox_by_sex(df)\n",
        "\n",
        "print(\"Ratio de vacunados con varicela por género:\")\n",
        "print(\"Hombres:\", result[\"male\"])\n",
        "print(\"Mujeres:\", result[\"female\"])"
      ],
      "metadata": {
        "colab": {
          "base_uri": "https://localhost:8080/"
        },
        "id": "BnJpTfkM3Z3S",
        "outputId": "992465e4-ee84-4055-e7fb-19c98a9e2dbf"
      },
      "execution_count": 23,
      "outputs": [
        {
          "output_type": "stream",
          "name": "stdout",
          "text": [
            "Ratio de vacunados con varicela por género:\n",
            "Hombres: 0.009675583380762664\n",
            "Mujeres: 0.0077918259335489565\n"
          ]
        }
      ]
    }
  ]
}